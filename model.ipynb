{
 "cells": [
  {
   "cell_type": "code",
   "execution_count": 39,
   "metadata": {},
   "outputs": [],
   "source": [
    "import numpy as np\n",
    "import pandas as pd\n",
    "import matplotlib.pyplot as plt\n",
    "import seaborn as sb\n",
    "plt.style.use('ggplot')\n",
    "pd.options.display.float_format = '{:.2f}'.format\n",
    "import statsmodels.api as sm\n",
    "from sklearn.decomposition import PCA\n",
    "from sklearn.preprocessing import StandardScaler\n",
    "from catboost import CatBoostRegressor\n",
    "from sklearn.model_selection import train_test_split\n",
    "from sklearn.linear_model import ARDRegression\n",
    "from sklearn.metrics import mean_squared_error, r2_score\n",
    "from statsmodels.tsa.stattools import adfuller\n",
    "from statsmodels.tsa.stattools import kpss\n",
    "\n",
    "from sklearn.datasets import load_diabetes\n",
    "from sklearn.linear_model import LinearRegression\n",
    "from sklearn.model_selection import cross_val_score"
   ]
  },
  {
   "cell_type": "code",
   "execution_count": 57,
   "metadata": {},
   "outputs": [
    {
     "data": {
      "text/html": [
       "<div>\n",
       "<style scoped>\n",
       "    .dataframe tbody tr th:only-of-type {\n",
       "        vertical-align: middle;\n",
       "    }\n",
       "\n",
       "    .dataframe tbody tr th {\n",
       "        vertical-align: top;\n",
       "    }\n",
       "\n",
       "    .dataframe thead th {\n",
       "        text-align: right;\n",
       "    }\n",
       "</style>\n",
       "<table border=\"1\" class=\"dataframe\">\n",
       "  <thead>\n",
       "    <tr style=\"text-align: right;\">\n",
       "      <th></th>\n",
       "      <th>infl_rus</th>\n",
       "      <th>MIACR</th>\n",
       "      <th>Infl_exp</th>\n",
       "      <th>M2</th>\n",
       "      <th>Brent</th>\n",
       "      <th>ibk</th>\n",
       "    </tr>\n",
       "  </thead>\n",
       "  <tbody>\n",
       "    <tr>\n",
       "      <th>0</th>\n",
       "      <td>0.39</td>\n",
       "      <td>6.06</td>\n",
       "      <td>13.04</td>\n",
       "      <td>31155.60</td>\n",
       "      <td>108.12</td>\n",
       "      <td>6.52</td>\n",
       "    </tr>\n",
       "    <tr>\n",
       "      <th>1</th>\n",
       "      <td>0.49</td>\n",
       "      <td>5.99</td>\n",
       "      <td>11.80</td>\n",
       "      <td>29861.20</td>\n",
       "      <td>108.90</td>\n",
       "      <td>6.16</td>\n",
       "    </tr>\n",
       "    <tr>\n",
       "      <th>2</th>\n",
       "      <td>0.82</td>\n",
       "      <td>7.85</td>\n",
       "      <td>11.52</td>\n",
       "      <td>30169.00</td>\n",
       "      <td>107.48</td>\n",
       "      <td>6.07</td>\n",
       "    </tr>\n",
       "    <tr>\n",
       "      <th>3</th>\n",
       "      <td>0.87</td>\n",
       "      <td>7.87</td>\n",
       "      <td>12.67</td>\n",
       "      <td>29519.30</td>\n",
       "      <td>107.76</td>\n",
       "      <td>5.47</td>\n",
       "    </tr>\n",
       "    <tr>\n",
       "      <th>4</th>\n",
       "      <td>0.85</td>\n",
       "      <td>8.21</td>\n",
       "      <td>11.72</td>\n",
       "      <td>29879.00</td>\n",
       "      <td>109.54</td>\n",
       "      <td>6.26</td>\n",
       "    </tr>\n",
       "    <tr>\n",
       "      <th>...</th>\n",
       "      <td>...</td>\n",
       "      <td>...</td>\n",
       "      <td>...</td>\n",
       "      <td>...</td>\n",
       "      <td>...</td>\n",
       "      <td>...</td>\n",
       "    </tr>\n",
       "    <tr>\n",
       "      <th>127</th>\n",
       "      <td>0.60</td>\n",
       "      <td>17.76</td>\n",
       "      <td>12.52</td>\n",
       "      <td>104351.30</td>\n",
       "      <td>80.36</td>\n",
       "      <td>6.02</td>\n",
       "    </tr>\n",
       "    <tr>\n",
       "      <th>128</th>\n",
       "      <td>0.75</td>\n",
       "      <td>18.46</td>\n",
       "      <td>13.41</td>\n",
       "      <td>106242.70</td>\n",
       "      <td>74.02</td>\n",
       "      <td>4.61</td>\n",
       "    </tr>\n",
       "    <tr>\n",
       "      <th>129</th>\n",
       "      <td>0.81</td>\n",
       "      <td>18.93</td>\n",
       "      <td>13.37</td>\n",
       "      <td>107629.50</td>\n",
       "      <td>75.63</td>\n",
       "      <td>5.31</td>\n",
       "    </tr>\n",
       "    <tr>\n",
       "      <th>130</th>\n",
       "      <td>1.10</td>\n",
       "      <td>20.65</td>\n",
       "      <td>13.94</td>\n",
       "      <td>108947.90</td>\n",
       "      <td>74.35</td>\n",
       "      <td>5.01</td>\n",
       "    </tr>\n",
       "    <tr>\n",
       "      <th>131</th>\n",
       "      <td>1.02</td>\n",
       "      <td>21.14</td>\n",
       "      <td>14.03</td>\n",
       "      <td>111025.20</td>\n",
       "      <td>73.86</td>\n",
       "      <td>4.33</td>\n",
       "    </tr>\n",
       "  </tbody>\n",
       "</table>\n",
       "<p>132 rows × 6 columns</p>\n",
       "</div>"
      ],
      "text/plain": [
       "     infl_rus  MIACR  Infl_exp        M2  Brent  ibk\n",
       "0        0.39   6.06     13.04  31155.60 108.12 6.52\n",
       "1        0.49   5.99     11.80  29861.20 108.90 6.16\n",
       "2        0.82   7.85     11.52  30169.00 107.48 6.07\n",
       "3        0.87   7.87     12.67  29519.30 107.76 5.47\n",
       "4        0.85   8.21     11.72  29879.00 109.54 6.26\n",
       "..        ...    ...       ...       ...    ...  ...\n",
       "127      0.60  17.76     12.52 104351.30  80.36 6.02\n",
       "128      0.75  18.46     13.41 106242.70  74.02 4.61\n",
       "129      0.81  18.93     13.37 107629.50  75.63 5.31\n",
       "130      1.10  20.65     13.94 108947.90  74.35 5.01\n",
       "131      1.02  21.14     14.03 111025.20  73.86 4.33\n",
       "\n",
       "[132 rows x 6 columns]"
      ]
     },
     "execution_count": 57,
     "metadata": {},
     "output_type": "execute_result"
    }
   ],
   "source": [
    "# Пример данных\n",
    "df = pd.read_csv('infl_rus.csv')\n",
    "df = df.iloc[:, 2:]\n",
    "df"
   ]
  },
  {
   "cell_type": "code",
   "execution_count": 43,
   "metadata": {},
   "outputs": [
    {
     "data": {
      "text/plain": [
       "infl_rus     True\n",
       "MIACR       False\n",
       "Infl_exp     True\n",
       "M2          False\n",
       "Brent       False\n",
       "ibk          True\n",
       "dtype: bool"
      ]
     },
     "execution_count": 43,
     "metadata": {},
     "output_type": "execute_result"
    }
   ],
   "source": [
    "df.apply(lambda x: adfuller(x)[1] < 0.05)"
   ]
  },
  {
   "cell_type": "code",
   "execution_count": 58,
   "metadata": {},
   "outputs": [
    {
     "data": {
      "text/plain": [
       "array([[-0.49399555, -0.78281788, -2.16325593,  0.82093676,  0.11550868],\n",
       "       [-0.29523703, -1.11792998, -1.95607102,  0.9382645 , -0.17693019],\n",
       "       [-0.45523547, -0.92266076, -1.7295043 ,  0.90540618, -0.54212438]])"
      ]
     },
     "execution_count": 58,
     "metadata": {},
     "output_type": "execute_result"
    }
   ],
   "source": [
    "# df = stationary_df.dropna().copy()\n",
    "\n",
    "X = df.drop(columns=[\"infl_rus\"])  \n",
    "y = df[\"infl_rus\"]  \n",
    "\n",
    "scaler = StandardScaler()\n",
    "X_scaled = scaler.fit_transform(X)\n",
    "\n",
    "pca = PCA(n_components=0.95)\n",
    "X_pca = pca.fit_transform(X_scaled)\n",
    "X_pca[:3]"
   ]
  },
  {
   "cell_type": "code",
   "execution_count": 59,
   "metadata": {},
   "outputs": [
    {
     "data": {
      "text/plain": [
       "<Axes: xlabel='components_used', ylabel='mean_squared_errors'>"
      ]
     },
     "execution_count": 59,
     "metadata": {},
     "output_type": "execute_result"
    },
    {
     "data": {
      "image/png": "[encoded data removed]",
      "text/plain": [
       "<Figure size 640x480 with 1 Axes>"
      ]
     },
     "metadata": {},
     "output_type": "display_data"
    }
   ],
   "source": [
    "lin_reg = LinearRegression()\n",
    "\n",
    "components_used = []\n",
    "mean_squared_errors = []\n",
    "\n",
    "for i in range(1, 11):\n",
    "    cv_scores = cross_val_score(estimator=lin_reg,\n",
    "                                X=X_pca[:, 0:i],\n",
    "                                y=y,\n",
    "                                cv=10,\n",
    "                                scoring=\"neg_mean_squared_error\")\n",
    "\n",
    "    cv_mean_squared_error = cv_scores.mean() * -1\n",
    "\n",
    "    components_used.append(i)\n",
    "    mean_squared_errors.append(cv_mean_squared_error)\n",
    "\n",
    "mse_by_n_components = \\\n",
    "    pd.DataFrame(data=dict(components_used=components_used,\n",
    "                           mean_squared_errors=mean_squared_errors))\n",
    "    \n",
    "sb.lineplot(data=mse_by_n_components, x='components_used', y='mean_squared_errors')"
   ]
  },
  {
   "cell_type": "code",
   "execution_count": 61,
   "metadata": {},
   "outputs": [
    {
     "name": "stdout",
     "output_type": "stream",
     "text": [
      "                            AutoReg Model Results                             \n",
      "==============================================================================\n",
      "Dep. Variable:               infl_rus   No. Observations:                  132\n",
      "Model:                   AutoReg-X(2)   Log Likelihood                -137.417\n",
      "Method:               Conditional MLE   S.D. of innovations              0.696\n",
      "Date:                Mon, 07 Apr 2025   AIC                            292.835\n",
      "Time:                        01:28:12   BIC                            318.642\n",
      "Sample:                             2   HQIC                           303.321\n",
      "                                  132                                         \n",
      "===============================================================================\n",
      "                  coef    std err          z      P>|z|      [0.025      0.975]\n",
      "-------------------------------------------------------------------------------\n",
      "const           0.6302      0.088      7.195      0.000       0.459       0.802\n",
      "infl_rus.L1     0.1248      0.083      1.508      0.132      -0.037       0.287\n",
      "infl_rus.L2    -0.1580      0.080     -1.981      0.048      -0.314      -0.002\n",
      "x1             -0.1540      0.045     -3.415      0.001      -0.242      -0.066\n",
      "x2              0.2984      0.058      5.179      0.000       0.185       0.411\n",
      "x3             -0.0150      0.072     -0.210      0.834      -0.155       0.125\n",
      "x4              0.4144      0.090      4.579      0.000       0.237       0.592\n",
      "x5             -0.1991      0.110     -1.812      0.070      -0.415       0.016\n",
      "                                    Roots                                    \n",
      "=============================================================================\n",
      "                  Real          Imaginary           Modulus         Frequency\n",
      "-----------------------------------------------------------------------------\n",
      "AR.1            0.3949           -2.4845j            2.5157           -0.2249\n",
      "AR.2            0.3949           +2.4845j            2.5157            0.2249\n",
      "-----------------------------------------------------------------------------\n"
     ]
    },
    {
     "data": {
      "image/png": "[encoded data removed]",
      "text/plain": [
       "<Figure size 640x480 with 1 Axes>"
      ]
     },
     "metadata": {},
     "output_type": "display_data"
    }
   ],
   "source": [
    "from statsmodels.tsa.ar_model import AutoReg\n",
    "from statsmodels.graphics.tsaplots import plot_acf, plot_pacf\n",
    "\n",
    "plot_acf(df['infl_rus'], lags=7, ax=plt.gca())  # lags=20 - количество лагов для отображения\n",
    "plot_pacf(df['infl_rus'], lags=7, ax=plt.gca(), method='ols')  # method='ols' для PACF\n",
    "\n",
    "# Построение ARDL модели\n",
    "model = AutoReg(df['infl_rus'], lags=2, exog=X_pca)\n",
    "results = model.fit()\n",
    "result= results.summary()\n",
    "print(result)"
   ]
  },
  {
   "cell_type": "code",
   "execution_count": 75,
   "metadata": {},
   "outputs": [
    {
     "name": "stdout",
     "output_type": "stream",
     "text": [
      "                            OLS Regression Results                            \n",
      "==============================================================================\n",
      "Dep. Variable:               infl_rus   R-squared:                       0.350\n",
      "Model:                            OLS   Adj. R-squared:                  0.324\n",
      "Method:                 Least Squares   F-statistic:                     13.58\n",
      "Date:                Mon, 07 Apr 2025   Prob (F-statistic):           1.35e-10\n",
      "Time:                        12:08:43   Log-Likelihood:                -141.32\n",
      "No. Observations:                 132   AIC:                             294.6\n",
      "Df Residuals:                     126   BIC:                             311.9\n",
      "Df Model:                           5                                         \n",
      "Covariance Type:            nonrobust                                         \n",
      "==============================================================================\n",
      "                 coef    std err          t      P>|t|      [0.025      0.975]\n",
      "------------------------------------------------------------------------------\n",
      "const          0.6057      0.063      9.632      0.000       0.481       0.730\n",
      "x1            -0.1492      0.045     -3.334      0.001      -0.238      -0.061\n",
      "x2             0.3023      0.054      5.621      0.000       0.196       0.409\n",
      "x3             0.0096      0.071      0.136      0.892      -0.130       0.150\n",
      "x4             0.3940      0.085      4.662      0.000       0.227       0.561\n",
      "x5            -0.2088      0.112     -1.857      0.066      -0.431       0.014\n",
      "==============================================================================\n",
      "Omnibus:                      177.526   Durbin-Watson:                   1.389\n",
      "Prob(Omnibus):                  0.000   Jarque-Bera (JB):             9791.388\n",
      "Skew:                           4.996   Prob(JB):                         0.00\n",
      "Kurtosis:                      43.993   Cond. No.                         2.51\n",
      "==============================================================================\n",
      "\n",
      "Notes:\n",
      "[1] Standard Errors assume that the covariance matrix of the errors is correctly specified.\n",
      "                            OLS Regression Results                            \n",
      "==============================================================================\n",
      "Dep. Variable:                      y   R-squared:                       0.370\n",
      "Model:                            OLS   Adj. R-squared:                  0.345\n",
      "Method:                 Least Squares   F-statistic:                     14.67\n",
      "Date:                Mon, 07 Apr 2025   Prob (F-statistic):           2.63e-11\n",
      "Time:                        12:08:43   Log-Likelihood:                -134.24\n",
      "No. Observations:                 131   AIC:                             280.5\n",
      "Df Residuals:                     125   BIC:                             297.7\n",
      "Df Model:                           5                                         \n",
      "Covariance Type:            nonrobust                                         \n",
      "==============================================================================\n",
      "                 coef    std err          t      P>|t|      [0.025      0.975]\n",
      "------------------------------------------------------------------------------\n",
      "const          0.6060      0.060     10.047      0.000       0.487       0.725\n",
      "x1            -0.1535      0.043     -3.589      0.000      -0.238      -0.069\n",
      "x2             0.2987      0.051      5.804      0.000       0.197       0.401\n",
      "x3            -0.0105      0.069     -0.151      0.880      -0.147       0.126\n",
      "x4             0.3853      0.081      4.749      0.000       0.225       0.546\n",
      "x5            -0.2120      0.107     -1.973      0.051      -0.425       0.001\n",
      "==============================================================================\n",
      "Omnibus:                      193.252   Durbin-Watson:                   2.018\n",
      "Prob(Omnibus):                  0.000   Jarque-Bera (JB):            15459.883\n",
      "Skew:                           5.688   Prob(JB):                         0.00\n",
      "Kurtosis:                      54.990   Cond. No.                         2.51\n",
      "==============================================================================\n",
      "\n",
      "Notes:\n",
      "[1] Standard Errors assume that the covariance matrix of the errors is correctly specified.\n"
     ]
    }
   ],
   "source": [
    "from statsmodels.tsa.ar_model import AutoReg\n",
    "\n",
    "# Добавляем константу (intercept)\n",
    "X_sm = sm.add_constant(X_pca)\n",
    "\n",
    "# OLS-регрессия\n",
    "model_ols = sm.OLS(y, X_sm)\n",
    "results_ols = model_ols.fit()\n",
    "\n",
    "print(results_ols.summary())\n",
    "\n",
    "# Остатки модели\n",
    "residuals = results_ols.resid\n",
    "\n",
    "# Оцениваем AR(p) для остатков\n",
    "ar_order = 1  # порядок авторегрессии (можно подобрать через AIC)\n",
    "model_ar = AutoReg(residuals, lags=ar_order)\n",
    "results_ar = model_ar.fit()\n",
    "\n",
    "# Прогнозируем AR-ошибки\n",
    "ar_predictions = results_ar.predict()\n",
    "\n",
    "# Корректируем исходные данные\n",
    "y_corrected = y - ar_predictions\n",
    "\n",
    "# Переоцениваем OLS на скорректированных данных\n",
    "model_ols_corrected = sm.OLS(y_corrected[1:], X_sm[1:])\n",
    "results_ols_corrected = model_ols_corrected.fit()\n",
    "print(results_ols_corrected.summary())"
   ]
  },
  {
   "cell_type": "code",
   "execution_count": 76,
   "metadata": {},
   "outputs": [
    {
     "name": "stdout",
     "output_type": "stream",
     "text": [
      "                               SARIMAX Results                                \n",
      "==============================================================================\n",
      "Dep. Variable:               infl_rus   No. Observations:                  132\n",
      "Model:                 ARIMA(1, 0, 0)   Log Likelihood                -121.869\n",
      "Date:                Mon, 07 Apr 2025   AIC                            259.738\n",
      "Time:                        12:09:29   BIC                            282.801\n",
      "Sample:                             0   HQIC                           269.110\n",
      "                                - 132                                         \n",
      "Covariance Type:                  opg                                         \n",
      "==============================================================================\n",
      "                 coef    std err          z      P>|z|      [0.025      0.975]\n",
      "------------------------------------------------------------------------------\n",
      "const          0.3457      1.273      0.272      0.786      -2.149       2.840\n",
      "x1            -0.5082      0.402     -1.264      0.206      -1.296       0.280\n",
      "x2             1.0497      0.180      5.831      0.000       0.697       1.403\n",
      "x3            -0.2603      0.534     -0.487      0.626      -1.307       0.786\n",
      "x4             0.5515      0.193      2.862      0.004       0.174       0.929\n",
      "x5            -1.9198      0.427     -4.499      0.000      -2.756      -1.083\n",
      "ar.L1          0.9276      0.047     19.845      0.000       0.836       1.019\n",
      "sigma2         0.3656      0.030     12.302      0.000       0.307       0.424\n",
      "===================================================================================\n",
      "Ljung-Box (L1) (Q):                   0.50   Jarque-Bera (JB):              6570.77\n",
      "Prob(Q):                              0.48   Prob(JB):                         0.00\n",
      "Heteroskedasticity (H):               6.21   Skew:                            -4.04\n",
      "Prob(H) (two-sided):                  0.00   Kurtosis:                        36.61\n",
      "===================================================================================\n",
      "\n",
      "Warnings:\n",
      "[1] Covariance matrix calculated using the outer product of gradients (complex-step).\n"
     ]
    }
   ],
   "source": [
    "from statsmodels.tsa.arima.model import ARIMA\n",
    "\n",
    "# ARIMA(X) модель: порядок (1,0,0) = AR(1)\n",
    "model_arima = ARIMA(y, exog=X_pca, order=(1, 0, 0))\n",
    "results_arima = model_arima.fit()\n",
    "print(results_arima.summary())"
   ]
  },
  {
   "cell_type": "code",
   "execution_count": null,
   "metadata": {},
   "outputs": [],
   "source": []
  },
  {
   "cell_type": "code",
   "execution_count": null,
   "metadata": {},
   "outputs": [],
   "source": []
  },
  {
   "cell_type": "code",
   "execution_count": null,
   "metadata": {},
   "outputs": [],
   "source": []
  }
 ],
 "metadata": {
  "kernelspec": {
   "display_name": "Python 3",
   "language": "python",
   "name": "python3"
  },
  "language_info": {
   "codemirror_mode": {
    "name": "ipython",
    "version": 3
   },
   "file_extension": ".py",
   "mimetype": "text/x-python",
   "name": "python",
   "nbconvert_exporter": "python",
   "pygments_lexer": "ipython3",
   "version": "3.11.4"
  }
 },
 "nbformat": 4,
 "nbformat_minor": 2
}
